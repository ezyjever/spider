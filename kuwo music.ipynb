{
 "cells": [
  {
   "cell_type": "code",
   "execution_count": 69,
   "metadata": {},
   "outputs": [],
   "source": [
    "import requests\n",
    "import jsonpath\n",
    "from urllib.request import urlretrieve\n",
    "import urllib"
   ]
  },
  {
   "cell_type": "code",
   "execution_count": 70,
   "metadata": {},
   "outputs": [
    {
     "name": "stdout",
     "output_type": "stream",
     "text": [
      "{'kw_token': 'DJYAAGA82QH'}\n",
      "96795362\n"
     ]
    },
    {
     "data": {
      "text/plain": [
       "96795362"
      ]
     },
     "execution_count": 70,
     "metadata": {},
     "output_type": "execute_result"
    }
   ],
   "source": [
    "\n",
    "def get_csrf():\n",
    "\n",
    "    headers = {\n",
    "        'Accept': 'text/html,application/xhtml+xml,application/xml;q=0.9,image/avif,image/webp,image/apng,*/*;q=0.8,application/signed-exchange;v=b3;q=0.9',\n",
    "        'Accept-Encoding': 'gzip, deflate',\n",
    "        'Accept-Language': 'zh-CN,zh;q=0.9,en;q=0.8',\n",
    "        'Cache-Control': 'max-age=0',\n",
    "        'Connection': 'keep-alive',\n",
    "#         'Cookie': '_ga=GA1.2.1008590016.1600610702; _gid=GA1.2.168532148.1622112903; Hm_lvt_cdb524f42f0ce19b169a8071123a4797=1622112903,1622113005; kw_token=WG10UHQ4Y0G; _gat=1; Hm_lpvt_cdb524f42f0ce19b169a8071123a4797=1622113957',\n",
    "        'Host': 'www.kuwo.cn',\n",
    "        'Upgrade-Insecure-Requests': '1',\n",
    "        'User-Agent': 'Mozilla/5.0 (Windows NT 10.0; Win64; x64) AppleWebKit/537.36 (KHTML, like Gecko) Chrome/90.0.4430.93 Safari/537.36'\n",
    "    }\n",
    "    s.get('http://www.kuwo.cn', headers = headers)\n",
    "    print(s.cookies.get_dict())\n",
    "\n",
    "    url = 'http://www.kuwo.cn/api/www/search/searchMusicBykeyWord?key={keyword}&pn=1&rn=30&httpsStatus=1&reqId=5e9ef6c0-bee0-11eb-bcc0-8f7c97500d07'\n",
    "    headers = {\n",
    "        'Accept': 'application/json, text/plain, */*',\n",
    "        'Accept-Encoding': 'gzip, deflate',\n",
    "        'Accept-Language': 'zh-CN,zh;q=0.9,en;q=0.8',\n",
    "        'Connection': 'keep-alive',\n",
    "#         'Cookie': '_ga=GA1.2.1008590016.1600610702; Hm_lvt_cdb524f42f0ce19b169a8071123a4797=1622112903; Hm_lpvt_cdb524f42f0ce19b169a8071123a4797=1622112903; _gid=GA1.2.168532148.1622112903; kw_token=A7T08YTUHW6',\n",
    "        'csrf': s.cookies.get_dict()['kw_token'],\n",
    "        'Host': 'www.kuwo.cn',\n",
    "        'Referer': 'http://www.kuwo.cn/search/list?key={keyword}',\n",
    "        'User-Agent': 'Mozilla/5.0 (Windows NT 10.0; Win64; x64) AppleWebKit/537.36 (KHTML, like Gecko) Chrome/90.0.4430.93 Safari/537.36',\n",
    "    }\n",
    "    r = s.get(url, headers = headers)\n",
    "#     print(r.text)\n",
    "    rid = jsonpath.jsonpath(r.json(), '$..rid')[0]\n",
    "    print(rid)\n",
    "    return rid\n",
    "\n",
    "get_csrf()"
   ]
  },
  {
   "cell_type": "code",
   "execution_count": 71,
   "metadata": {},
   "outputs": [],
   "source": [
    "def get_music_url(rid):\n",
    "    url = f'http://www.kuwo.cn/url?format=mp3&rid={rid}&response=url&type=convert_url3&br=128kmp3&from=web'\n",
    "    headers = {\n",
    "        'Accept': 'application/json, text/plain, */*',\n",
    "        'Accept-Encoding': 'gzip, deflate',\n",
    "        'Accept-Language': 'zh-CN,zh;q=0.9,en;q=0.8',\n",
    "        'Connection': 'keep-alive',\n",
    "#         Cookie: _ga=GA1.2.1008590016.1600610702; _gid=GA1.2.168532148.1622112903; Hm_lvt_cdb524f42f0ce19b169a8071123a4797=1622112903,1622113005; _gat=1; Hm_lpvt_cdb524f42f0ce19b169a8071123a4797=1622115602; kw_token=TVBDVH5QBQD\n",
    "        'Host': 'www.kuwo.cn',\n",
    "        'Referer': 'http://www.kuwo.cn/search/list?key={keyword}',\n",
    "        'User-Agent': 'Mozilla/5.0 (Windows NT 10.0; Win64; x64) AppleWebKit/537.36 (KHTML, like Gecko) Chrome/90.0.4430.93 Safari/537.36'\n",
    "    }\n",
    "    music_url =s.get(url, headers = headers).json()['url']\n",
    "    return music_url"
   ]
  },
  {
   "cell_type": "code",
   "execution_count": 82,
   "metadata": {},
   "outputs": [],
   "source": [
    "def get_music(music_url):\n",
    "    urlretrieve(music_url,f'{urllib.parse.unquote(keyword)}'+'.mp3')\n",
    "    "
   ]
  },
  {
   "cell_type": "code",
   "execution_count": 83,
   "metadata": {},
   "outputs": [],
   "source": [
    "def go():\n",
    "    rid = get_csrf()\n",
    "    music_url = get_music_url(rid)\n",
    "    get_music(music_url)\n",
    "    print(\"下载完成\")"
   ]
  },
  {
   "cell_type": "code",
   "execution_count": 84,
   "metadata": {},
   "outputs": [
    {
     "name": "stdout",
     "output_type": "stream",
     "text": [
      "请输入要下载的歌曲名字：稻香\n",
      "{'kw_token': '9WNYXIZA1F7'}\n",
      "96795362\n",
      "下载完成\n"
     ]
    }
   ],
   "source": [
    "\n",
    "s = requests.session()\n",
    "keyword = input(\"请输入要下载的歌曲名字：\")\n",
    "keyword = urllib.parse.quote(keyword)\n",
    "go()\n"
   ]
  },
  {
   "cell_type": "code",
   "execution_count": 81,
   "metadata": {},
   "outputs": [
    {
     "data": {
      "text/plain": [
       "'%E7%A8%BB%E9%A6%99'"
      ]
     },
     "execution_count": 81,
     "metadata": {},
     "output_type": "execute_result"
    }
   ],
   "source": [
    "urllib.parse.quote('稻香')"
   ]
  },
  {
   "cell_type": "code",
   "execution_count": 98,
   "metadata": {},
   "outputs": [],
   "source": [
    "import requests\n",
    "import jsonpath\n",
    "from urllib.request import urlretrieve\n",
    "\n",
    "def get_csrf():\n",
    "\n",
    "    headers = {\n",
    "        'Accept': 'text/html,application/xhtml+xml,application/xml;q=0.9,image/avif,image/webp,image/apng,*/*;q=0.8,application/signed-exchange;v=b3;q=0.9',\n",
    "        'Accept-Encoding': 'gzip, deflate',\n",
    "        'Accept-Language': 'zh-CN,zh;q=0.9,en;q=0.8',\n",
    "        'Cache-Control': 'max-age=0',\n",
    "        'Connection': 'keep-alive',\n",
    "#         'Cookie': '_ga=GA1.2.1008590016.1600610702; _gid=GA1.2.168532148.1622112903; Hm_lvt_cdb524f42f0ce19b169a8071123a4797=1622112903,1622113005; kw_token=WG10UHQ4Y0G; _gat=1; Hm_lpvt_cdb524f42f0ce19b169a8071123a4797=1622113957',\n",
    "        'Host': 'www.kuwo.cn',\n",
    "        'Upgrade-Insecure-Requests': '1',\n",
    "        'User-Agent': 'Mozilla/5.0 (Windows NT 10.0; Win64; x64) AppleWebKit/537.36 (KHTML, like Gecko) Chrome/90.0.4430.93 Safari/537.36'\n",
    "    }\n",
    "    s.get('http://www.kuwo.cn', headers = headers)\n",
    "    print(s.cookies.get_dict())\n",
    "\n",
    "    url = f'http://www.kuwo.cn/api/www/search/searchMusicBykeyWord?key={keyword}&pn=1&rn=30&httpsStatus=1&reqId=5e9ef6c0-bee0-11eb-bcc0-8f7c97500d07'\n",
    "    headers = {\n",
    "        'Accept': 'application/json, text/plain, */*',\n",
    "        'Accept-Encoding': 'gzip, deflate',\n",
    "        'Accept-Language': 'zh-CN,zh;q=0.9,en;q=0.8',\n",
    "        'Connection': 'keep-alive',\n",
    "#         'Cookie': '_ga=GA1.2.1008590016.1600610702; Hm_lvt_cdb524f42f0ce19b169a8071123a4797=1622112903; Hm_lpvt_cdb524f42f0ce19b169a8071123a4797=1622112903; _gid=GA1.2.168532148.1622112903; kw_token=A7T08YTUHW6',\n",
    "        'csrf': s.cookies.get_dict()['kw_token'],\n",
    "        'Host': 'www.kuwo.cn',\n",
    "        'Referer': f'http://www.kuwo.cn/search/list?key={keyword}',\n",
    "        'User-Agent': 'Mozilla/5.0 (Windows NT 10.0; Win64; x64) AppleWebKit/537.36 (KHTML, like Gecko) Chrome/90.0.4430.93 Safari/537.36',\n",
    "    }\n",
    "    r = s.get(url, headers = headers)\n",
    "#     print(r.text)\n",
    "    rid = jsonpath.jsonpath(r.json(), '$..rid')[0]\n",
    "    print(rid)\n",
    "    return rid\n",
    "\n",
    "def get_music_url(rid):\n",
    "    url = f'http://www.kuwo.cn/url?format=mp3&rid={rid}&response=url&type=convert_url3&br=128kmp3&from=web'\n",
    "    headers = {\n",
    "        'Accept': 'application/json, text/plain, */*',\n",
    "        'Accept-Encoding': 'gzip, deflate',\n",
    "        'Accept-Language': 'zh-CN,zh;q=0.9,en;q=0.8',\n",
    "        'Connection': 'keep-alive',\n",
    "#         Cookie: _ga=GA1.2.1008590016.1600610702; _gid=GA1.2.168532148.1622112903; Hm_lvt_cdb524f42f0ce19b169a8071123a4797=1622112903,1622113005; _gat=1; Hm_lpvt_cdb524f42f0ce19b169a8071123a4797=1622115602; kw_token=TVBDVH5QBQD\n",
    "        'Host': 'www.kuwo.cn',\n",
    "        'Referer': f'http://www.kuwo.cn/search/list?key={keyword}',\n",
    "        'User-Agent': 'Mozilla/5.0 (Windows NT 10.0; Win64; x64) AppleWebKit/537.36 (KHTML, like Gecko) Chrome/90.0.4430.93 Safari/537.36'\n",
    "    }\n",
    "    music_url =s.get(url, headers = headers).json()['url']\n",
    "    return music_url\n",
    "\n",
    "\n",
    "def get_music(music_url):\n",
    "    urlretrieve(music_url,f'{urllib.parse.unquote(keyword)}'+'.mp3')\n",
    "\n",
    "    \n",
    "def go():\n",
    "    rid = get_csrf()\n",
    "    music_url = get_music_url(rid)\n",
    "    get_music(music_url)\n",
    "    print(\"下载完成\",urllib.parse.unquote(keyword))\n",
    "\n",
    "\n"
   ]
  },
  {
   "cell_type": "code",
   "execution_count": 99,
   "metadata": {},
   "outputs": [
    {
     "name": "stdout",
     "output_type": "stream",
     "text": [
      "请输入要下载的歌曲名字：爱的代价\n",
      "{'kw_token': 'ZMG639PKOS'}\n",
      "3142540\n",
      "下载完成 爱的代价\n"
     ]
    }
   ],
   "source": [
    "s = requests.session()\n",
    "keyword = input(\"请输入要下载的歌曲名字：\")\n",
    "keyword = urllib.parse.quote(keyword)\n",
    "go()"
   ]
  },
  {
   "cell_type": "code",
   "execution_count": null,
   "metadata": {},
   "outputs": [],
   "source": []
  }
 ],
 "metadata": {
  "kernelspec": {
   "display_name": "Python 3",
   "language": "python",
   "name": "python3"
  },
  "language_info": {
   "codemirror_mode": {
    "name": "ipython",
    "version": 3
   },
   "file_extension": ".py",
   "mimetype": "text/x-python",
   "name": "python",
   "nbconvert_exporter": "python",
   "pygments_lexer": "ipython3",
   "version": "3.7.6"
  }
 },
 "nbformat": 4,
 "nbformat_minor": 4
}
